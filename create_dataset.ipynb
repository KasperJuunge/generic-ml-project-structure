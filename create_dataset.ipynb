{
 "cells": [
  {
   "cell_type": "code",
   "execution_count": null,
   "metadata": {},
   "outputs": [],
   "source": [
    "import os\n",
    "import torch\n",
    "import torch.nn as nn\n",
    "import torch.nn.functional as F\n",
    "import s3fs\n",
    "import boto3\n",
    "from pyarrow import Table, parquet as pq\n",
    "import pandas as pd\n",
    "import numpy as np\n",
    "import time\n",
    "from tqdm import tqdm\n",
    "from functions import mk_dir\n",
    "dataset_name = 'test'"
   ]
  },
  {
   "cell_type": "markdown",
   "metadata": {},
   "source": [
    "## Load Raw Data"
   ]
  },
  {
   "cell_type": "code",
   "execution_count": null,
   "metadata": {},
   "outputs": [],
   "source": []
  },
  {
   "cell_type": "markdown",
   "metadata": {},
   "source": [
    "## Process"
   ]
  },
  {
   "cell_type": "code",
   "execution_count": null,
   "metadata": {},
   "outputs": [],
   "source": []
  },
  {
   "cell_type": "markdown",
   "metadata": {},
   "source": [
    "## Save to Drive"
   ]
  },
  {
   "cell_type": "code",
   "execution_count": null,
   "metadata": {},
   "outputs": [],
   "source": [
    "# Snapshot this notebook\n",
    "def snapshot(file_path, snapshot_path):\n",
    "\n",
    "    if os.path.isfile(file_path):\n",
    "\n",
    "        # Read file\n",
    "        with open(file_path, 'r') as file:\n",
    "            src = file.read()\n",
    "\n",
    "        # Save file\n",
    "        f = open(snapshot_path, 'w')\n",
    "        f.write(src)\n",
    "        f.close()\n",
    "        return src\n",
    "    else:\n",
    "        print(f'Trying to snapshot file, but can not find path: {file_path}')\n",
    "        return \n",
    "        \n",
    "src = snapshot(file_path='create_dataset.ipynb',\n",
    "               snapshot_path=f'./data/datasets/{dataset_name}/create_dataset.ipynb')"
   ]
  }
 ],
 "metadata": {
  "kernelspec": {
   "display_name": "Python 3",
   "language": "python",
   "name": "python3"
  },
  "language_info": {
   "codemirror_mode": {
    "name": "ipython",
    "version": 3
   },
   "file_extension": ".py",
   "mimetype": "text/x-python",
   "name": "python",
   "nbconvert_exporter": "python",
   "pygments_lexer": "ipython3",
   "version": "3.7.7"
  }
 },
 "nbformat": 4,
 "nbformat_minor": 4
}
